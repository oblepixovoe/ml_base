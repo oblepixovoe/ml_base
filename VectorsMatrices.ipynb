{
  "nbformat": 4,
  "nbformat_minor": 0,
  "metadata": {
    "colab": {
      "provenance": [],
      "toc_visible": true
    },
    "kernelspec": {
      "name": "python3",
      "display_name": "Python 3"
    },
    "language_info": {
      "name": "python"
    }
  },
  "cells": [
    {
      "cell_type": "markdown",
      "metadata": {
        "id": "La_cEqh418R7"
      },
      "source": [
        "## Векторы и матрицы"
      ]
    },
    {
      "cell_type": "markdown",
      "metadata": {
        "id": "ITSohtIb3xri"
      },
      "source": [
        "### Массив Numpy (Numpy array)"
      ]
    },
    {
      "cell_type": "code",
      "metadata": {
        "id": "pD3xI-y148Dx"
      },
      "source": [
        "import numpy as np"
      ],
      "execution_count": 2,
      "outputs": []
    },
    {
      "cell_type": "code",
      "metadata": {
        "id": "y1_WVreA14IF"
      },
      "source": [
        "# предположим мы записали данные\n",
        "# роста, веса и обхвата шеи одного человека в список\n",
        "data = [1.72, 54, 36.2]"
      ],
      "execution_count": null,
      "outputs": []
    },
    {
      "cell_type": "code",
      "metadata": {
        "colab": {
          "base_uri": "https://localhost:8080/"
        },
        "id": "aLumw2iL4bKM",
        "outputId": "9de961b9-2d69-4302-8fe4-34ca9fe51484"
      },
      "source": [
        "# убедимся, что это список с помощью функции type()\n",
        "type(data)"
      ],
      "execution_count": null,
      "outputs": [
        {
          "output_type": "execute_result",
          "data": {
            "text/plain": [
              "list"
            ]
          },
          "metadata": {},
          "execution_count": 3
        }
      ]
    },
    {
      "cell_type": "code",
      "metadata": {
        "colab": {
          "base_uri": "https://localhost:8080/"
        },
        "id": "KoaFIduc4vqW",
        "outputId": "892775e1-1687-4207-f7cd-0cfc15d0f76a"
      },
      "source": [
        "# преобразуем список в массив Numpy\n",
        "data_Numpy = np.array(data)\n",
        "data_Numpy"
      ],
      "execution_count": null,
      "outputs": [
        {
          "output_type": "execute_result",
          "data": {
            "text/plain": [
              "array([ 1.72, 54.  , 36.2 ])"
            ]
          },
          "metadata": {},
          "execution_count": 4
        }
      ]
    },
    {
      "cell_type": "code",
      "metadata": {
        "colab": {
          "base_uri": "https://localhost:8080/"
        },
        "id": "pSFD2lOR45VW",
        "outputId": "0ebdc1b5-ce6b-4305-8009-1fb81d9fd6ce"
      },
      "source": [
        "# если у нас несколько наблюдений, то нужна матрица, т.е.\n",
        "# по сути, несколько векторов\n",
        "data_matrix = np.array([[1.72, 54, 36.2], [1.74, 58, 36.3], [1.68, 52, 32.9]])\n",
        "data_matrix"
      ],
      "execution_count": null,
      "outputs": [
        {
          "output_type": "execute_result",
          "data": {
            "text/plain": [
              "array([[ 1.72, 54.  , 36.2 ],\n",
              "       [ 1.74, 58.  , 36.3 ],\n",
              "       [ 1.68, 52.  , 32.9 ]])"
            ]
          },
          "metadata": {},
          "execution_count": 5
        }
      ]
    },
    {
      "cell_type": "code",
      "metadata": {
        "colab": {
          "base_uri": "https://localhost:8080/"
        },
        "id": "gZUsnCdh6FBX",
        "outputId": "c854fec8-75fe-48fc-bd9d-4c56abc32fb8"
      },
      "source": [
        "# мы можем посмотреть размерность матрицы (количество строк и столбцов)\n",
        "data_matrix.shape"
      ],
      "execution_count": null,
      "outputs": [
        {
          "output_type": "execute_result",
          "data": {
            "text/plain": [
              "(3, 3)"
            ]
          },
          "metadata": {},
          "execution_count": 6
        }
      ]
    },
    {
      "cell_type": "markdown",
      "metadata": {
        "id": "P1BzMhSL6nPc"
      },
      "source": [
        "### Скалярное произведение векторов (dot product)"
      ]
    },
    {
      "cell_type": "markdown",
      "metadata": {
        "id": "6xsjBTTiCbN2"
      },
      "source": [
        "\n",
        "  $$\\textbf{a}=(a_{1}, a_{2})$$\n",
        "  $$\\textbf{w}=(w_{1}, w_{2})$$\n",
        "  $$\\textbf{a}\\cdot\\textbf{w}=a_{1}w_{1}+a_{2}w_{2}$$"
      ]
    },
    {
      "cell_type": "code",
      "metadata": {
        "id": "oLKtgXZO6WBe"
      },
      "source": [
        "# даны два вектора в виде массивов Numpy\n",
        "\n",
        "a = np.array([1.72, 54]) # вектор данных\n",
        "w = np.array([19.86, 0.05]) # вектор весов"
      ],
      "execution_count": null,
      "outputs": []
    },
    {
      "cell_type": "code",
      "metadata": {
        "colab": {
          "base_uri": "https://localhost:8080/"
        },
        "id": "SvfwMrCN7AHp",
        "outputId": "ed41d1ed-23dc-4a3a-89fe-768ea22dd851"
      },
      "source": [
        "# перемножим их вручную\n",
        "1.72 * 19.86 + 54 * 0.05"
      ],
      "execution_count": null,
      "outputs": [
        {
          "output_type": "execute_result",
          "data": {
            "text/plain": [
              "36.8592"
            ]
          },
          "metadata": {},
          "execution_count": 8
        }
      ]
    },
    {
      "cell_type": "code",
      "metadata": {
        "colab": {
          "base_uri": "https://localhost:8080/"
        },
        "id": "ISUEBSne7FWX",
        "outputId": "41864280-0bf8-49a4-92e4-7264dbd9b121"
      },
      "source": [
        "# используем скалярное произведение векторов\n",
        "np.dot(a, w)"
      ],
      "execution_count": null,
      "outputs": [
        {
          "output_type": "execute_result",
          "data": {
            "text/plain": [
              "36.8592"
            ]
          },
          "metadata": {},
          "execution_count": 9
        }
      ]
    },
    {
      "cell_type": "markdown",
      "metadata": {
        "id": "1KeDIzMV9XyN"
      },
      "source": [
        "### Косинусное сходство между векторами"
      ]
    },
    {
      "cell_type": "markdown",
      "metadata": {
        "id": "-Wf32jTfA_H6"
      },
      "source": [
        "Первый шаг: найдем косинус угла по формуле $$ \\cos \\theta ={\\mathbf {b} \\cdot \\mathbf {c} \\over \\|\\mathbf {b} \\|\\|\\mathbf {c} \\|} $$"
      ]
    },
    {
      "cell_type": "code",
      "metadata": {
        "id": "m08mssyx8_Ye"
      },
      "source": [
        "# даны два вектора (данные двух человек)\n",
        "# нам нужно понять, насколько они схожи\n",
        "b = np.array([1.72, 54, 36.2])\n",
        "c = np.array([1.56, 47, 30.0])"
      ],
      "execution_count": null,
      "outputs": []
    },
    {
      "cell_type": "code",
      "metadata": {
        "id": "Z5MmrsTs_pTy"
      },
      "source": [
        "# вначале выполним операции в числителе формулы\n",
        "numerator = np.dot(b, c)"
      ],
      "execution_count": null,
      "outputs": []
    },
    {
      "cell_type": "code",
      "metadata": {
        "id": "fdufBHKu_Fnc"
      },
      "source": [
        "# теперь займемся знаменателем и\n",
        "# (1) рассчитаем длины (по большому счету, это теорема Пифагора)\n",
        "bLen = np.linalg.norm(b)\n",
        "cLen = np.linalg.norm(c)\n",
        "\n",
        "# (2) перемножим их\n",
        "denominator = bLen * cLen"
      ],
      "execution_count": null,
      "outputs": []
    },
    {
      "cell_type": "code",
      "metadata": {
        "colab": {
          "base_uri": "https://localhost:8080/"
        },
        "id": "rwtu1Ivn_XeJ",
        "outputId": "65c4c173-fa84-4a3e-ddb5-4d24fcb5d848"
      },
      "source": [
        "# посмотрим, чему равен косинус угла между векторами\n",
        "cosine = numerator/denominator\n",
        "cosine"
      ],
      "execution_count": null,
      "outputs": [
        {
          "output_type": "execute_result",
          "data": {
            "text/plain": [
              "0.9997468709497721"
            ]
          },
          "metadata": {},
          "execution_count": 13
        }
      ]
    },
    {
      "cell_type": "markdown",
      "metadata": {
        "id": "59IBUJS7BLGe"
      },
      "source": [
        "Второй шаг: найдем угол в градусах по его косинусу"
      ]
    },
    {
      "cell_type": "code",
      "metadata": {
        "id": "_Do9SMzhAW9N"
      },
      "source": [
        "# для этого вначале вычислим угол в радианах\n",
        "angle_radians = np.arccos(cosine)\n",
        "\n",
        "# затем в градусах\n",
        "angle_degrees = angle_radians * 360/2/np.pi"
      ],
      "execution_count": null,
      "outputs": []
    },
    {
      "cell_type": "code",
      "metadata": {
        "colab": {
          "base_uri": "https://localhost:8080/"
        },
        "id": "3HdLzhUHB5PG",
        "outputId": "6efb355b-db1b-479d-9bee-48f4c672a6c1"
      },
      "source": [
        "angle_degrees"
      ],
      "execution_count": null,
      "outputs": [
        {
          "output_type": "execute_result",
          "data": {
            "text/plain": [
              "1.2891925481394304"
            ]
          },
          "metadata": {},
          "execution_count": 15
        }
      ]
    },
    {
      "cell_type": "markdown",
      "metadata": {
        "id": "dodmiVSKGLsf"
      },
      "source": [
        "### Упражнения"
      ]
    },
    {
      "cell_type": "code",
      "metadata": {
        "id": "MF0Kj8P-GNU-"
      },
      "source": [
        "# даны два вектора\n",
        "v1 = np.array([37, 84, 110.2, 18.6])\n",
        "v2 = np.array([5, 36, 199.6, 5.1])"
      ],
      "execution_count": 3,
      "outputs": []
    },
    {
      "cell_type": "markdown",
      "source": [
        "#### Основы работы с массивами"
      ],
      "metadata": {
        "id": "xhsK7v1O9fyx"
      }
    },
    {
      "cell_type": "markdown",
      "source": [
        "**Задание 1**. Посмотрите с помощью Питона на тип данных любого из двух векторов."
      ],
      "metadata": {
        "id": "9ijkO72o9QJS"
      }
    },
    {
      "cell_type": "code",
      "metadata": {
        "id": "gdGx3bHNKu51",
        "colab": {
          "base_uri": "https://localhost:8080/"
        },
        "outputId": "0a782e9c-dd25-45e1-aa22-6882ee3ae9ad"
      },
      "source": [
        "v1"
      ],
      "execution_count": 4,
      "outputs": [
        {
          "output_type": "execute_result",
          "data": {
            "text/plain": [
              "array([ 37. ,  84. , 110.2,  18.6])"
            ]
          },
          "metadata": {},
          "execution_count": 4
        }
      ]
    },
    {
      "cell_type": "markdown",
      "source": [
        "**Задание 2**. Какая размерность у этих векторов?"
      ],
      "metadata": {
        "id": "J7LbwCj29Zl4"
      }
    },
    {
      "cell_type": "code",
      "metadata": {
        "id": "VtQ1wpgdKnZP",
        "colab": {
          "base_uri": "https://localhost:8080/"
        },
        "outputId": "080ee895-aa97-40ea-c36a-f3478375ac8e"
      },
      "source": [
        "print(v1.shape)\n",
        "print(v2.shape)"
      ],
      "execution_count": 6,
      "outputs": [
        {
          "output_type": "stream",
          "name": "stdout",
          "text": [
            "(4,)\n",
            "(4,)\n"
          ]
        }
      ]
    },
    {
      "cell_type": "markdown",
      "metadata": {
        "id": "K4Lh1OQCMijh"
      },
      "source": [
        "#### Скалярное произведение векторов"
      ]
    },
    {
      "cell_type": "markdown",
      "source": [
        "**Задание 3**. Перемножьте векторы `v1` и `v2` вручную."
      ],
      "metadata": {
        "id": "9RMXlYGE9lAs"
      }
    },
    {
      "cell_type": "code",
      "metadata": {
        "id": "fSIM8FiVMu6I",
        "colab": {
          "base_uri": "https://localhost:8080/"
        },
        "outputId": "aa6a0a48-1f96-449b-993e-0d62d7af639f"
      },
      "source": [
        "37 * 5 + 84 * 36 + 110.2 * 199.6 + 18.6 * 5.1\n"
      ],
      "execution_count": 8,
      "outputs": [
        {
          "output_type": "execute_result",
          "data": {
            "text/plain": [
              "25299.78"
            ]
          },
          "metadata": {},
          "execution_count": 8
        }
      ]
    },
    {
      "cell_type": "markdown",
      "source": [
        "**Задание 4**. Используйте функцию **dot()**."
      ],
      "metadata": {
        "id": "vivmgULw9uDi"
      }
    },
    {
      "cell_type": "code",
      "metadata": {
        "id": "cmc6SgWXMykd",
        "colab": {
          "base_uri": "https://localhost:8080/"
        },
        "outputId": "80de3a73-bfe4-46f0-92c1-3fe90ebabefb"
      },
      "source": [
        " numr = np.dot(v1, v2)\n",
        " numr"
      ],
      "execution_count": 10,
      "outputs": [
        {
          "output_type": "execute_result",
          "data": {
            "text/plain": [
              "25299.78"
            ]
          },
          "metadata": {},
          "execution_count": 10
        }
      ]
    },
    {
      "cell_type": "markdown",
      "metadata": {
        "id": "ocls86JOM8kS"
      },
      "source": [
        "#### Косинусное сходство между векторами"
      ]
    },
    {
      "cell_type": "markdown",
      "source": [
        "**Задание 5**. Найдите угол в градусах между векторами `v1` и `v2`."
      ],
      "metadata": {
        "id": "kLRkxDh495dE"
      }
    },
    {
      "cell_type": "code",
      "metadata": {
        "id": "Xx8D1lLTNAw3",
        "colab": {
          "base_uri": "https://localhost:8080/"
        },
        "outputId": "adc15f26-d8d7-4259-c5a7-63f360811aaa"
      },
      "source": [
        "v1_len = np.linalg.norm(v1)\n",
        "v2_len = np.linalg.norm(v2)\n",
        "\n",
        "denom = v1_len * v2_len\n",
        "\n",
        "coss = numr/denom\n",
        "\n",
        "angle_rad = np.arccos(coss)\n",
        "angle_deg = angle_rad * 360/2/np.pi\n",
        "angle_deg"
      ],
      "execution_count": 13,
      "outputs": [
        {
          "output_type": "execute_result",
          "data": {
            "text/plain": [
              "30.458206946879134"
            ]
          },
          "metadata": {},
          "execution_count": 13
        }
      ]
    }
  ]
}